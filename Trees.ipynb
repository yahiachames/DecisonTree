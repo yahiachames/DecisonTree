{
 "cells": [
  {
   "cell_type": "code",
   "execution_count": 26,
   "metadata": {},
   "outputs": [
    {
     "data": {
      "text/html": [
       "<div>\n",
       "<style scoped>\n",
       "    .dataframe tbody tr th:only-of-type {\n",
       "        vertical-align: middle;\n",
       "    }\n",
       "\n",
       "    .dataframe tbody tr th {\n",
       "        vertical-align: top;\n",
       "    }\n",
       "\n",
       "    .dataframe thead th {\n",
       "        text-align: right;\n",
       "    }\n",
       "</style>\n",
       "<table border=\"1\" class=\"dataframe\">\n",
       "  <thead>\n",
       "    <tr style=\"text-align: right;\">\n",
       "      <th></th>\n",
       "      <th>PassengerId</th>\n",
       "      <th>Survived</th>\n",
       "      <th>Pclass</th>\n",
       "      <th>Name</th>\n",
       "      <th>Sex</th>\n",
       "      <th>Age</th>\n",
       "      <th>SibSp</th>\n",
       "      <th>Parch</th>\n",
       "      <th>Ticket</th>\n",
       "      <th>Fare</th>\n",
       "      <th>Embarked</th>\n",
       "      <th>Role</th>\n",
       "      <th>fullName</th>\n",
       "      <th>Value</th>\n",
       "      <th>Pseudo</th>\n",
       "      <th>NameDesc</th>\n",
       "    </tr>\n",
       "  </thead>\n",
       "  <tbody>\n",
       "    <tr>\n",
       "      <th>0</th>\n",
       "      <td>343</td>\n",
       "      <td>0</td>\n",
       "      <td>2</td>\n",
       "      <td>Collander, Mr. Erik Gustaf</td>\n",
       "      <td>1</td>\n",
       "      <td>28</td>\n",
       "      <td>0</td>\n",
       "      <td>0</td>\n",
       "      <td>248740</td>\n",
       "      <td>13.0000</td>\n",
       "      <td>S</td>\n",
       "      <td>Collander</td>\n",
       "      <td>Mr. Erik Gustaf</td>\n",
       "      <td>Mr</td>\n",
       "      <td>Erik Gustaf</td>\n",
       "      <td>None</td>\n",
       "    </tr>\n",
       "    <tr>\n",
       "      <th>1</th>\n",
       "      <td>76</td>\n",
       "      <td>0</td>\n",
       "      <td>3</td>\n",
       "      <td>Moen, Mr. Sigurd Hansen</td>\n",
       "      <td>1</td>\n",
       "      <td>25</td>\n",
       "      <td>0</td>\n",
       "      <td>0</td>\n",
       "      <td>348123</td>\n",
       "      <td>7.6500</td>\n",
       "      <td>S</td>\n",
       "      <td>Moen</td>\n",
       "      <td>Mr. Sigurd Hansen</td>\n",
       "      <td>Mr</td>\n",
       "      <td>Sigurd Hansen</td>\n",
       "      <td>None</td>\n",
       "    </tr>\n",
       "    <tr>\n",
       "      <th>2</th>\n",
       "      <td>641</td>\n",
       "      <td>0</td>\n",
       "      <td>3</td>\n",
       "      <td>Jensen, Mr. Hans Peder</td>\n",
       "      <td>1</td>\n",
       "      <td>20</td>\n",
       "      <td>0</td>\n",
       "      <td>0</td>\n",
       "      <td>350050</td>\n",
       "      <td>7.8542</td>\n",
       "      <td>S</td>\n",
       "      <td>Jensen</td>\n",
       "      <td>Mr. Hans Peder</td>\n",
       "      <td>Mr</td>\n",
       "      <td>Hans Peder</td>\n",
       "      <td>None</td>\n",
       "    </tr>\n",
       "    <tr>\n",
       "      <th>3</th>\n",
       "      <td>568</td>\n",
       "      <td>0</td>\n",
       "      <td>3</td>\n",
       "      <td>Palsson, Mrs. Nils (Alma Cornelia Berglund)</td>\n",
       "      <td>0</td>\n",
       "      <td>29</td>\n",
       "      <td>0</td>\n",
       "      <td>4</td>\n",
       "      <td>349909</td>\n",
       "      <td>21.0750</td>\n",
       "      <td>S</td>\n",
       "      <td>Palsson</td>\n",
       "      <td>Mrs. Nils (Alma Cornelia Berglund)</td>\n",
       "      <td>Mrs</td>\n",
       "      <td>Nils (Alma Cornelia Berglund)</td>\n",
       "      <td>None</td>\n",
       "    </tr>\n",
       "    <tr>\n",
       "      <th>4</th>\n",
       "      <td>672</td>\n",
       "      <td>0</td>\n",
       "      <td>1</td>\n",
       "      <td>Davidson, Mr. Thornton</td>\n",
       "      <td>1</td>\n",
       "      <td>31</td>\n",
       "      <td>1</td>\n",
       "      <td>0</td>\n",
       "      <td>F.C. 12750</td>\n",
       "      <td>52.0000</td>\n",
       "      <td>S</td>\n",
       "      <td>Davidson</td>\n",
       "      <td>Mr. Thornton</td>\n",
       "      <td>Mr</td>\n",
       "      <td>Thornton</td>\n",
       "      <td>None</td>\n",
       "    </tr>\n",
       "  </tbody>\n",
       "</table>\n",
       "</div>"
      ],
      "text/plain": [
       "   PassengerId  Survived  Pclass                                         Name  \\\n",
       "0          343         0       2                   Collander, Mr. Erik Gustaf   \n",
       "1           76         0       3                      Moen, Mr. Sigurd Hansen   \n",
       "2          641         0       3                       Jensen, Mr. Hans Peder   \n",
       "3          568         0       3  Palsson, Mrs. Nils (Alma Cornelia Berglund)   \n",
       "4          672         0       1                       Davidson, Mr. Thornton   \n",
       "\n",
       "   Sex  Age  SibSp  Parch      Ticket     Fare Embarked       Role  \\\n",
       "0    1   28      0      0      248740  13.0000        S  Collander   \n",
       "1    1   25      0      0      348123   7.6500        S       Moen   \n",
       "2    1   20      0      0      350050   7.8542        S     Jensen   \n",
       "3    0   29      0      4      349909  21.0750        S    Palsson   \n",
       "4    1   31      1      0  F.C. 12750  52.0000        S   Davidson   \n",
       "\n",
       "                              fullName Value                          Pseudo  \\\n",
       "0                      Mr. Erik Gustaf    Mr                     Erik Gustaf   \n",
       "1                    Mr. Sigurd Hansen    Mr                   Sigurd Hansen   \n",
       "2                       Mr. Hans Peder    Mr                      Hans Peder   \n",
       "3   Mrs. Nils (Alma Cornelia Berglund)   Mrs   Nils (Alma Cornelia Berglund)   \n",
       "4                         Mr. Thornton    Mr                        Thornton   \n",
       "\n",
       "  NameDesc  \n",
       "0     None  \n",
       "1     None  \n",
       "2     None  \n",
       "3     None  \n",
       "4     None  "
      ]
     },
     "execution_count": 26,
     "metadata": {},
     "output_type": "execute_result"
    }
   ],
   "source": [
    "import pandas as pd\n",
    "import seaborn as sns\n",
    "import matplotlib.pyplot as plt\n",
    "from sklearn import tree   \n",
    "from sklearn.tree import DecisionTreeClassifier,export_graphviz\n",
    "from sklearn.metrics import accuracy_score\n",
    "from sklearn.model_selection import train_test_split\n",
    "\n",
    "\n",
    "\n",
    "df = pd.read_table('titanic-passengers.csv', delimiter =\";\") \n",
    "df[\"Survived\"] = df[\"Survived\"].map({\"Yes\" : 1 , \"No\" : 0})\n",
    "df[\"Sex\"] = df[\"Sex\"].map({\"male\" : 1 , \"female\" : 0})\n",
    "df[\"Age\"].fillna(df[\"Age\"].median() , inplace =True)\n",
    "df[\"Age\"] = df[\"Age\"].map(int)\n",
    "\n",
    "\n",
    "\n",
    "df[\"Embarked\"].fillna(\"C\" , inplace =True)\n",
    "\n",
    "df = df.drop('Cabin',axis=1)\n",
    "df[['Role','fullName']] = df.Name.str.split(\",\",expand=True)\n",
    "\n",
    "df[['Value','Pseudo' , 'NameDesc']] = df[\"fullName\"].str.split(\".\",expand=True)\n",
    "df.head()"
   ]
  },
  {
   "cell_type": "code",
   "execution_count": 27,
   "metadata": {},
   "outputs": [
    {
     "name": "stdout",
     "output_type": "stream",
     "text": [
      "score:1.0\n"
     ]
    }
   ],
   "source": [
    "x=df[[\"Survived\", \"Sex\", \"SibSp\", \"Age\"]]\n",
    "y= df[\"Survived\"]\n",
    "x_train, x_test, y_train, y_test = train_test_split(x,y, test_size=0.20,random_state=10)\n",
    "treeModel = DecisionTreeClassifier()  \n",
    "treeModel.fit(x_train, y_train)   #fitting our model\n",
    "y_pred=treeModel.predict(x_test)   # evaluating our model\n",
    "print(\"score:{}\".format(accuracy_score(y_test, y_pred)))"
   ]
  },
  {
   "cell_type": "code",
   "execution_count": 28,
   "metadata": {},
   "outputs": [
    {
     "name": "stdout",
     "output_type": "stream",
     "text": [
      "digraph Tree {\n",
      "node [shape=box] ;\n",
      "0 [label=\"X[0] <= 0.5\\ngini = 0.469\\nsamples = 712\\nvalue = [444, 268]\"] ;\n",
      "1 [label=\"gini = 0.0\\nsamples = 444\\nvalue = [444, 0]\"] ;\n",
      "0 -> 1 [labeldistance=2.5, labelangle=45, headlabel=\"True\"] ;\n",
      "2 [label=\"gini = 0.0\\nsamples = 268\\nvalue = [0, 268]\"] ;\n",
      "0 -> 2 [labeldistance=2.5, labelangle=-45, headlabel=\"False\"] ;\n",
      "}\n"
     ]
    }
   ],
   "source": [
    "import graphviz\n",
    "from IPython.display import display\n",
    "dot_data = tree.export_graphviz(treeModel,out_file=None)\n",
    "graph = graphviz.Source(dot_data)\n",
    "print(graph)\n",
    "# graph.render() \n",
    "# graph"
   ]
  },
  {
   "cell_type": "code",
   "execution_count": 29,
   "metadata": {},
   "outputs": [
    {
     "name": "stdout",
     "output_type": "stream",
     "text": [
      "score:1.0\n"
     ]
    }
   ],
   "source": [
    "x1=df[[\"Survived\", \"Sex\"]]\n",
    "y1= df[\"Survived\"]\n",
    "x_train1, x_test1, y_train1, y_test1 = train_test_split(x1,y1, test_size=0.2,random_state=30)\n",
    "treeModel1 = DecisionTreeClassifier()  \n",
    "treeModel1.fit(x_train1, y_train1)   #fitting our model\n",
    "y_pred1=treeModel1.predict(x_test1)   # evaluating our model\n",
    "print(\"score:{}\".format(accuracy_score(y_test1, y_pred1)))"
   ]
  },
  {
   "cell_type": "code",
   "execution_count": 32,
   "metadata": {},
   "outputs": [
    {
     "name": "stdout",
     "output_type": "stream",
     "text": [
      "Accuracy: 1.0\n"
     ]
    }
   ],
   "source": [
    "from sklearn.ensemble import RandomForestClassifier\n",
    "\n",
    "x2=df[[\"Survived\", \"Sex\", \"SibSp\", \"Age\"]]\n",
    "y2= df[\"Survived\"]\n",
    "x_train2, x_test2, y_train2, y_test2 = train_test_split(x,y, test_size=0.20,random_state=10)\n",
    "clf=RandomForestClassifier(n_estimators=10)  \n",
    "clf.fit(x_train2, y_train2)  \n",
    "y_pred2=clf.predict(x_test2)  \n",
    "print(\"Accuracy:\", accuracy_score(y_test2, y_pred2)) "
   ]
  },
  {
   "cell_type": "code",
   "execution_count": null,
   "metadata": {},
   "outputs": [],
   "source": []
  }
 ],
 "metadata": {
  "kernelspec": {
   "display_name": "Python 3",
   "language": "python",
   "name": "python3"
  },
  "language_info": {
   "codemirror_mode": {
    "name": "ipython",
    "version": 3
   },
   "file_extension": ".py",
   "mimetype": "text/x-python",
   "name": "python",
   "nbconvert_exporter": "python",
   "pygments_lexer": "ipython3",
   "version": "3.8.5"
  }
 },
 "nbformat": 4,
 "nbformat_minor": 4
}
